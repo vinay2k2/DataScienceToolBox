{
  "nbformat": 4,
  "nbformat_minor": 0,
  "metadata": {
    "colab": {
      "provenance": [],
      "authorship_tag": "ABX9TyOmwmZniMK8lGjg6v4pqHmk",
      "include_colab_link": true
    },
    "kernelspec": {
      "name": "python3",
      "display_name": "Python 3"
    },
    "language_info": {
      "name": "python"
    }
  },
  "cells": [
    {
      "cell_type": "markdown",
      "metadata": {
        "id": "view-in-github",
        "colab_type": "text"
      },
      "source": [
        "<a href=\"https://colab.research.google.com/github/vinay2k2/DataScienceToolBox/blob/main/1_DSTB_User_Defined_Functions.ipynb\" target=\"_parent\"><img src=\"https://colab.research.google.com/assets/colab-badge.svg\" alt=\"Open In Colab\"/></a>"
      ]
    },
    {
      "cell_type": "markdown",
      "source": [
        "# User Defined Functions\n",
        "## Builtin Function can be utilized from library\n",
        "## As a Data Scientist we would need to define a lot of our own functionalties\n",
        "## We can define our own functions for our own functionalities\n",
        "\n",
        "\n",
        "1.   Funtion without parameters\n",
        "2.   Functions with Parameters\n",
        "3.   Function with returns\n",
        "4.   Function with multiple returns\n"
      ],
      "metadata": {
        "id": "-SVK55-EMIau"
      }
    },
    {
      "cell_type": "code",
      "execution_count": 43,
      "metadata": {
        "colab": {
          "base_uri": "https://localhost:8080/"
        },
        "id": "QxrhyKqmL7l6",
        "outputId": "5ca88a9e-df55-4c88-a861-cf46fce7d781"
      },
      "outputs": [
        {
          "output_type": "stream",
          "name": "stdout",
          "text": [
            "16\n"
          ]
        },
        {
          "output_type": "execute_result",
          "data": {
            "text/plain": [
              "NoneType"
            ]
          },
          "metadata": {},
          "execution_count": 43
        }
      ],
      "source": [
        "# 1. Funtion without parameters\n",
        "def square(): # no Paramters here\n",
        "  square_value = 4**2\n",
        "  print(square_value)\n",
        "square()"
      ]
    },
    {
      "cell_type": "code",
      "source": [
        "# 2. Funtion with parameters\n",
        "def square(parameter_value): # 1 Paramters here\n",
        "  square_value = parameter_value**2\n",
        "  print(square_value)\n",
        "square(4)"
      ],
      "metadata": {
        "colab": {
          "base_uri": "https://localhost:8080/"
        },
        "id": "4BroZKw-NUH5",
        "outputId": "a2fba003-2c50-44cc-efec-fe9ab5bd434d"
      },
      "execution_count": 4,
      "outputs": [
        {
          "output_type": "stream",
          "name": "stdout",
          "text": [
            "16\n"
          ]
        }
      ]
    },
    {
      "cell_type": "code",
      "source": [
        "# 3. Function with returns\n",
        "def square(parameter_value):\n",
        "  square_value = parameter_value**2\n",
        "  return square_value\n",
        "print(square(4))"
      ],
      "metadata": {
        "colab": {
          "base_uri": "https://localhost:8080/"
        },
        "id": "UGV2W7U4Nic1",
        "outputId": "f24c902b-4d5b-4fb0-ad09-6fa7c8c1cde0"
      },
      "execution_count": 5,
      "outputs": [
        {
          "output_type": "stream",
          "name": "stdout",
          "text": [
            "16\n"
          ]
        }
      ]
    },
    {
      "cell_type": "code",
      "source": [
        "# 3.1 Funtion without returns, doesnot return anything and hence if you see the return type it would be NoneType\n",
        "def square(): # no Paramters here\n",
        "  square_value = 4**2\n",
        "  print(square_value)\n",
        "y =square()\n",
        "type(y)\n"
      ],
      "metadata": {
        "colab": {
          "base_uri": "https://localhost:8080/"
        },
        "id": "FYn7JlvyZUpX",
        "outputId": "f563646a-1a39-4a10-d031-ec4defc82953"
      },
      "execution_count": 44,
      "outputs": [
        {
          "output_type": "stream",
          "name": "stdout",
          "text": [
            "16\n"
          ]
        },
        {
          "output_type": "execute_result",
          "data": {
            "text/plain": [
              "NoneType"
            ]
          },
          "metadata": {},
          "execution_count": 44
        }
      ]
    },
    {
      "cell_type": "code",
      "source": [
        "# 3.2. A string takes any object and return a string type object\n",
        "string_returned = str(9)\n",
        "type(string_returned)"
      ],
      "metadata": {
        "colab": {
          "base_uri": "https://localhost:8080/"
        },
        "id": "PjoDwSu3Ztb1",
        "outputId": "5855382a-cb4d-46ad-a0a7-c3eaacc9cef1"
      },
      "execution_count": 45,
      "outputs": [
        {
          "output_type": "execute_result",
          "data": {
            "text/plain": [
              "str"
            ]
          },
          "metadata": {},
          "execution_count": 45
        }
      ]
    },
    {
      "cell_type": "code",
      "source": [
        "# 3.3. Print return nothing so type would be NoneType\n",
        "print_returned = print(9)\n",
        "type(print_returned)"
      ],
      "metadata": {
        "colab": {
          "base_uri": "https://localhost:8080/"
        },
        "id": "64URg2YAZ4be",
        "outputId": "0f1f6112-0ffa-40db-acd7-5b159f3f6384"
      },
      "execution_count": 46,
      "outputs": [
        {
          "output_type": "stream",
          "name": "stdout",
          "text": [
            "9\n"
          ]
        },
        {
          "output_type": "execute_result",
          "data": {
            "text/plain": [
              "NoneType"
            ]
          },
          "metadata": {},
          "execution_count": 46
        }
      ]
    },
    {
      "cell_type": "code",
      "source": [
        "# 4.Function with multiple returns\n",
        "def power_two_and_three(parameter_value):\n",
        "  '''This function has multiple outputs its better to document its functionalities using a DocString Like this'''\n",
        "  square_value = parameter_value**2\n",
        "  qube_value = parameter_value**3\n",
        "  return square_value,qube_value\n",
        "square, qube = power_two_and_three(4)\n",
        "print(\"Square is :\", square)\n",
        "print(\"Qube is :\", qube)\n"
      ],
      "metadata": {
        "colab": {
          "base_uri": "https://localhost:8080/"
        },
        "id": "yGyc7KvNN5Bo",
        "outputId": "bee86330-d50c-4e60-ca13-31da9d5c905d"
      },
      "execution_count": 11,
      "outputs": [
        {
          "output_type": "stream",
          "name": "stdout",
          "text": [
            "Square is : 16\n",
            "Qube is : 64\n"
          ]
        }
      ]
    },
    {
      "cell_type": "code",
      "source": [
        "power_two_and_three() # try seeing the Docstring via hover inside the (), The Documentation shall be visible while calling the function"
      ],
      "metadata": {
        "id": "nlavwgvHPCcF"
      },
      "execution_count": null,
      "outputs": []
    },
    {
      "cell_type": "markdown",
      "source": [
        "# Fun with Inbuilt * for String Concatenation\n",
        "# Requirements: A code two use the variable count and print following depending upon count in a single line of code\n",
        "### There is 1 item in the list\n",
        "### There are 2 items in the list\n",
        "### There are 3 items in the list"
      ],
      "metadata": {
        "id": "L3GDpIBBWb88"
      }
    },
    {
      "cell_type": "code",
      "source": [
        "False*\"Hello\""
      ],
      "metadata": {
        "colab": {
          "base_uri": "https://localhost:8080/",
          "height": 38
        },
        "id": "M0avKPpWU9ga",
        "outputId": "f45927b3-7f32-45af-e5ce-564a7f8ef487"
      },
      "execution_count": 28,
      "outputs": [
        {
          "output_type": "execute_result",
          "data": {
            "text/plain": [
              "''"
            ],
            "application/vnd.google.colaboratory.intrinsic+json": {
              "type": "string"
            }
          },
          "metadata": {},
          "execution_count": 28
        }
      ]
    },
    {
      "cell_type": "code",
      "source": [
        "# Basis:\n",
        "count=3\n",
        "print((count!=3)*\"Hello\")"
      ],
      "metadata": {
        "colab": {
          "base_uri": "https://localhost:8080/"
        },
        "id": "v2buLmzRUYYn",
        "outputId": "f6f2adb7-6c8a-42fb-d298-efafd5ea585d"
      },
      "execution_count": 33,
      "outputs": [
        {
          "output_type": "stream",
          "name": "stdout",
          "text": [
            "\n"
          ]
        }
      ]
    },
    {
      "cell_type": "code",
      "source": [
        "True*\"Hello\""
      ],
      "metadata": {
        "colab": {
          "base_uri": "https://localhost:8080/",
          "height": 38
        },
        "id": "CGqTLN_rXN45",
        "outputId": "5740c8ef-3f92-49d9-d92f-9006a73b022f"
      },
      "execution_count": 34,
      "outputs": [
        {
          "output_type": "execute_result",
          "data": {
            "text/plain": [
              "'Hello'"
            ],
            "application/vnd.google.colaboratory.intrinsic+json": {
              "type": "string"
            }
          },
          "metadata": {},
          "execution_count": 34
        }
      ]
    },
    {
      "cell_type": "code",
      "source": [
        "# Basis:\n",
        "count=1\n",
        "print((count!=3)*\"Hello\")"
      ],
      "metadata": {
        "colab": {
          "base_uri": "https://localhost:8080/"
        },
        "id": "OxDZ6N15XVfX",
        "outputId": "2f6f1f47-0749-45a0-96db-4b96441d45d1"
      },
      "execution_count": 35,
      "outputs": [
        {
          "output_type": "stream",
          "name": "stdout",
          "text": [
            "Hello\n"
          ]
        }
      ]
    },
    {
      "cell_type": "code",
      "source": [
        "count=1\n",
        "# There is 1 item in the list\n",
        "# There are 2 items in the list\n",
        "# There are 3 items in the list\n",
        "print(f'There {\"is\" if count==1 else \"are\"} {count} item{\"s\"*(count!=1)} in the list')"
      ],
      "metadata": {
        "colab": {
          "base_uri": "https://localhost:8080/"
        },
        "id": "ANIiYl5LUrDL",
        "outputId": "cd4b1d74-273b-48e1-e696-a2271917ce62"
      },
      "execution_count": 36,
      "outputs": [
        {
          "output_type": "stream",
          "name": "stdout",
          "text": [
            "There is 1 item in the list\n"
          ]
        }
      ]
    },
    {
      "cell_type": "code",
      "source": [
        "# Requirement\n",
        "# There is 1 item in the list\n",
        "# There are 2 items in the list\n",
        "# There are 3 items in the list\n",
        "count=3\n",
        "print(f'There {\"is\" if count==1 else \"are\"} {count} item{\"s\"*(count!=1)} in the list')"
      ],
      "metadata": {
        "colab": {
          "base_uri": "https://localhost:8080/"
        },
        "id": "pa5DcbPcS-pp",
        "outputId": "7be21b29-54f5-4a93-d78e-bae27902be80"
      },
      "execution_count": 37,
      "outputs": [
        {
          "output_type": "stream",
          "name": "stdout",
          "text": [
            "There are 3 items in the list\n"
          ]
        }
      ]
    },
    {
      "cell_type": "markdown",
      "source": [],
      "metadata": {
        "id": "ZDAe0AF2iQTW"
      }
    }
  ]
}